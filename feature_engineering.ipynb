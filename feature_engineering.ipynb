{
 "cells": [
  {
   "cell_type": "code",
   "execution_count": 1,
   "id": "651c59ad",
   "metadata": {},
   "outputs": [
    {
     "name": "stdout",
     "output_type": "stream",
     "text": [
      "Features created! New columns:\n",
      "['price_yesterday', 'price_last_week', 'price_avg_7days', 'day_of_week', 'month', 'is_weekend', 'arrivals_yesterday']\n",
      "\n",
      "Data with new features:\n",
      "          date  market_name  market_lat  market_lon commodity  modal_price  \\\n",
      "64  2023-01-08  Delhi_Mandi        28.6        77.2     Onion  2421.360880   \n",
      "73  2023-01-09  Delhi_Mandi        28.6        77.2     Onion  1850.567540   \n",
      "82  2023-01-10  Delhi_Mandi        28.6        77.2     Onion  2170.927819   \n",
      "91  2023-01-11  Delhi_Mandi        28.6        77.2     Onion  2117.609937   \n",
      "100 2023-01-12  Delhi_Mandi        28.6        77.2     Onion  1746.751721   \n",
      "\n",
      "     arrivals_qty  price_yesterday  price_last_week  price_avg_7days  \\\n",
      "64            336      1894.768124      2307.649023      1942.218552   \n",
      "73            917      2421.360880      1908.182963      1958.463103   \n",
      "82            174      1850.567540      1669.136138      1950.232328   \n",
      "91            210      2170.927819      2416.706548      2021.916854   \n",
      "100           221      2117.609937      1795.486324      1979.188766   \n",
      "\n",
      "     day_of_week  month  is_weekend  arrivals_yesterday  \n",
      "64             6      1           1               116.0  \n",
      "73             0      1           0               336.0  \n",
      "82             1      1           0               917.0  \n",
      "91             2      1           0               174.0  \n",
      "100            3      1           0               210.0  \n"
     ]
    }
   ],
   "source": [
    "import pandas as pd\n",
    "import numpy as np # We need numpy for the next steps\n",
    "\n",
    "# Load the dataset we created earlier\n",
    "df = pd.read_csv('data/market_prices.csv')\n",
    "df['date'] = pd.to_datetime(df['date'])\n",
    "\n",
    "\n",
    "def create_features(df):\n",
    "    \"\"\"\n",
    "    This function creates 'smart features' from basic data\n",
    "    \"\"\"\n",
    "    df = df.sort_values(['market_name', 'commodity', 'date'])\n",
    "\n",
    "    # Price history features (what happened before?)\n",
    "    df['price_yesterday'] = df.groupby(['market_name', 'commodity'])['modal_price'].shift(1)\n",
    "    df['price_last_week'] = df.groupby(['market_name', 'commodity'])['modal_price'].shift(7)\n",
    "    df['price_avg_7days'] = df.groupby(['market_name', 'commodity'])['modal_price'].shift(1).rolling(7).mean()\n",
    "\n",
    "    # Calendar features (when is it?)\n",
    "    df['day_of_week'] = df['date'].dt.dayofweek # Monday=0, Sunday=6\n",
    "    df['month'] = df['date'].dt.month\n",
    "    df['is_weekend'] = df['day_of_week'].isin([5, 6]).astype(int)\n",
    "\n",
    "    # Supply features (how much is available?)\n",
    "    df['arrivals_yesterday'] = df.groupby(['market_name', 'commodity'])['arrivals_qty'].shift(1)\n",
    "\n",
    "    # Remove rows with missing values that were created by the shift() function\n",
    "    df = df.dropna()\n",
    "\n",
    "    return df\n",
    "\n",
    "# Apply feature engineering\n",
    "df_features = create_features(df.copy()) # Use a copy to be safe\n",
    "\n",
    "# Display the new columns and the first few rows of the enhanced dataframe\n",
    "print(\"Features created! New columns:\")\n",
    "new_cols = [col for col in df_features.columns if col not in df.columns]\n",
    "print(new_cols)\n",
    "\n",
    "print(\"\\nData with new features:\")\n",
    "print(df_features.head())"
   ]
  }
 ],
 "metadata": {
  "kernelspec": {
   "display_name": ".venv",
   "language": "python",
   "name": "python3"
  },
  "language_info": {
   "codemirror_mode": {
    "name": "ipython",
    "version": 3
   },
   "file_extension": ".py",
   "mimetype": "text/x-python",
   "name": "python",
   "nbconvert_exporter": "python",
   "pygments_lexer": "ipython3",
   "version": "3.12.4"
  }
 },
 "nbformat": 4,
 "nbformat_minor": 5
}
