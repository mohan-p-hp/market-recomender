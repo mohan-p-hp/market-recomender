{
 "cells": [
  {
   "cell_type": "code",
   "execution_count": 1,
   "id": "55611e88",
   "metadata": {},
   "outputs": [
    {
     "name": "stdout",
     "output_type": "stream",
     "text": [
      "Profit breakdown: {'revenue': 50000, 'transport_cost': 700, 'market_fees': 750.0, 'other_costs': 400, 'total_costs': 1850.0, 'net_profit': 48150.0}\n"
     ]
    }
   ],
   "source": [
    "from haversine import haversine, Unit\n",
    "\n",
    "def calculate_distance(lat1, lon1, lat2, lon2):\n",
    "    \"\"\"\n",
    "    Calculate the straight-line distance between two points using their latitude and longitude.\n",
    "    \"\"\"\n",
    "    farmer_location = (lat1, lon1)\n",
    "    market_location = (lat2, lon2)\n",
    "    distance = haversine(farmer_location, market_location, unit=Unit.KILOMETERS)\n",
    "    return distance\n",
    "\n",
    "def calculate_net_profit(predicted_price_per_kg, quantity_tonnes, distance_km, market_fees_percent=1.5):\n",
    "    \"\"\"\n",
    "    Calculate how much money a farmer will actually earn after costs.\n",
    "    \"\"\"\n",
    "    # 1. Calculate total revenue\n",
    "    # Price is per kg, quantity is in tonnes, so we multiply by 1000\n",
    "    total_revenue = predicted_price_per_kg * quantity_tonnes * 1000\n",
    "\n",
    "    # 2. Calculate total costs\n",
    "    # Transport cost (example: ₹2 per km per tonne + ₹500 loading fee)\n",
    "    transport_cost = (distance_km * 2 * quantity_tonnes) + 500\n",
    "\n",
    "    # Market fees (a percentage of the total revenue)\n",
    "    market_fees = total_revenue * (market_fees_percent / 100)\n",
    "\n",
    "    # Other costs (example: ₹200 per tonne for handling)\n",
    "    other_costs = 200 * quantity_tonnes\n",
    "\n",
    "    total_costs = transport_cost + market_fees + other_costs\n",
    "\n",
    "    # 3. Calculate net profit\n",
    "    net_profit = total_revenue - total_costs\n",
    "\n",
    "    return {\n",
    "        'revenue': round(total_revenue, 2),\n",
    "        'transport_cost': round(transport_cost, 2),\n",
    "        'market_fees': round(market_fees, 2),\n",
    "        'other_costs': round(other_costs, 2),\n",
    "        'total_costs': round(total_costs, 2),\n",
    "        'net_profit': round(net_profit, 2)\n",
    "    }\n",
    "\n",
    "# --- Example Usage ---\n",
    "# Let's test our calculator with some sample numbers\n",
    "example_profit = calculate_net_profit(\n",
    "    predicted_price_per_kg=25,  # Predicted price is ₹25 per kg\n",
    "    quantity_tonnes=2,          # Farmer has 2 tonnes to sell\n",
    "    distance_km=50              # The market is 50 km away\n",
    ")\n",
    "\n",
    "print(\"Profit breakdown:\", example_profit)"
   ]
  }
 ],
 "metadata": {
  "kernelspec": {
   "display_name": ".venv",
   "language": "python",
   "name": "python3"
  },
  "language_info": {
   "codemirror_mode": {
    "name": "ipython",
    "version": 3
   },
   "file_extension": ".py",
   "mimetype": "text/x-python",
   "name": "python",
   "nbconvert_exporter": "python",
   "pygments_lexer": "ipython3",
   "version": "3.12.4"
  }
 },
 "nbformat": 4,
 "nbformat_minor": 5
}
